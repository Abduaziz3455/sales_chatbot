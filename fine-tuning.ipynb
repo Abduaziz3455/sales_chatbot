{
 "cells": [
  {
   "metadata": {
    "ExecuteTime": {
     "end_time": "2024-06-01T04:15:04.777723Z",
     "start_time": "2024-06-01T04:15:03.107906Z"
    }
   },
   "cell_type": "code",
   "source": [
    "from dotenv import load_dotenv\n",
    "from langchain_core.prompts import PromptTemplate\n",
    "from langchain_anthropic import ChatAnthropic\n",
    "from environs import Env\n",
    "from langsmith import Client\n",
    "\n",
    "env = Env()\n",
    "load_dotenv()\n",
    "client = Client()\n",
    "chat_model = ChatAnthropic(model='claude-3-haiku-20240307', temperature=0)\n",
    "prompt_template = open('dataset_prompt.txt', 'r', encoding='utf-8').read()\n",
    "prompt = PromptTemplate(input_variables=[\"input\"], template=prompt_template)\n",
    "chain = prompt | chat_model"
   ],
   "id": "f48add4d0e5b907",
   "outputs": [],
   "execution_count": 1
  },
  {
   "metadata": {
    "ExecuteTime": {
     "end_time": "2024-06-14T05:40:57.534822Z",
     "start_time": "2024-06-14T05:40:56.841031Z"
    }
   },
   "cell_type": "code",
   "source": [
    "import pandas as pd\n",
    "jsonObj = pd.read_json('final_dataset.jsonl', lines=True)"
   ],
   "id": "32f96978d7ba07a9",
   "outputs": [],
   "execution_count": 1
  },
  {
   "metadata": {
    "ExecuteTime": {
     "end_time": "2024-06-01T04:36:37.117401Z",
     "start_time": "2024-06-01T04:15:31.508470Z"
    }
   },
   "cell_type": "code",
   "source": [
    "# Iterate through each row in the DataFrame\n",
    "for index, row in jsonObj.iterrows():\n",
    "    # Filter the 'messages' list and update roles\n",
    "    updated_messages = []\n",
    "    for message in row['messages']:\n",
    "        if message['role'] == 'aichunk':\n",
    "            message['role'] = 'assistant'\n",
    "        if message['role'] == 'system':\n",
    "            message['content'] = \"You are Sales Assistant who answer the questions \\nabout flat features. For complete information take users phone number to contact with operators.\\nBe concise, as detailed as possible, but don't make up any information. send information in an ordered format.\\nIf you don't know an answer just say don't know and send admins phone {builder_phone} to contact.\\nAll answers should be in Uzbek.\\n\\nHere is additional questions with answers:\\nDo you have apartments for mortgage? - {mortgage}\\nDo you have ready apartments - {readyflat}\\nDo you have cadastre-registered apartments - {cadastre}\\nCan we buy an apartment with a subsidy - {subsidy}\\n\"\n",
    "        if message['role'] != 'function' and 'content' in message:\n",
    "            if message['role'] != 'system':\n",
    "                message['content'] = chain.invoke(message['content']).content\n",
    "            updated_messages.append(message)\n",
    "    # Update the DataFrame with the modified list\n",
    "    jsonObj.at[index, 'messages'] = updated_messages"
   ],
   "id": "e79132a2088a4c13",
   "outputs": [],
   "execution_count": 3
  },
  {
   "metadata": {
    "ExecuteTime": {
     "end_time": "2024-06-01T04:36:37.132363Z",
     "start_time": "2024-06-01T04:36:37.118910Z"
    }
   },
   "cell_type": "code",
   "source": "jsonObj.to_json('updated_dataset_2part.jsonl', lines=True, orient='records')",
   "id": "4f179912cd1112ba",
   "outputs": [],
   "execution_count": 4
  },
  {
   "metadata": {
    "ExecuteTime": {
     "end_time": "2024-06-14T06:40:09.621594Z",
     "start_time": "2024-06-14T06:40:09.526555Z"
    }
   },
   "cell_type": "code",
   "source": [
    "import json\n",
    "\n",
    "def load_jsonl(file_path):\n",
    "    with open(file_path, 'r') as file:\n",
    "        return [json.loads(line) for line in file]\n",
    "\n",
    "def save_jsonl(data, file_path):\n",
    "    with open(file_path, 'w') as file:\n",
    "        for entry in data:\n",
    "            file.write(json.dumps(entry) + '\\n')\n",
    "\n",
    "def split_messages(messages, max_length):\n",
    "    chunks = []\n",
    "    current_chunk = []\n",
    "    current_length = 0\n",
    "\n",
    "    for message in messages:\n",
    "        message_length = len(json.dumps(message))  # Length of the message when serialized to JSON string\n",
    "        if current_length + message_length > max_length and current_chunk:\n",
    "            # Ensure the chunk ends with 'assistant'\n",
    "            if current_chunk[-1]['role'] == 'assistant':\n",
    "                chunks.append(current_chunk)\n",
    "                current_chunk = []\n",
    "                current_length = 0\n",
    "\n",
    "        current_chunk.append(message)\n",
    "        current_length += message_length\n",
    "\n",
    "    if current_chunk and current_chunk[-1]['role'] == 'assistant':\n",
    "        chunks.append(current_chunk)\n",
    "    \n",
    "    return chunks\n",
    "\n",
    "def ensure_boundaries(chunks):\n",
    "    for chunk in chunks:\n",
    "        messages = chunk['messages']\n",
    "        if messages[0]['role'] not in ['system', 'user']:\n",
    "            raise ValueError(\"Chunk does not start with 'system' or 'user'\")\n",
    "        if messages[-1]['role'] != 'assistant':\n",
    "            raise ValueError(\"Chunk does not end with 'assistant'\")\n",
    "    return chunks\n",
    "\n",
    "def main(input_file, output_prefix, max_length):\n",
    "    data = load_jsonl(input_file)\n",
    "    chunked_data = []\n",
    "\n",
    "    for entry in data:\n",
    "        messages = entry['messages']\n",
    "        chunks = split_messages(messages, max_length)\n",
    "        for chunk in chunks:\n",
    "            chunked_data.append({'messages': chunk})\n",
    "\n",
    "    chunked_data = ensure_boundaries(chunked_data)\n",
    "    \n",
    "    save_jsonl(chunked_data, output_file)\n",
    "    print(f\"Saved all chunks to {output_file}\")\n",
    "\n",
    "# Example usage:\n",
    "input_file = 'final_dataset.jsonl'\n",
    "output_file = 'output.jsonl'\n",
    "max_length = 2048  # Adjust the max length as per your requirement\n",
    "\n",
    "main(input_file, output_file, max_length)"
   ],
   "id": "197d5b165a641790",
   "outputs": [
    {
     "name": "stdout",
     "output_type": "stream",
     "text": [
      "Saved all chunks to output.jsonl\n"
     ]
    }
   ],
   "execution_count": 58
  },
  {
   "metadata": {
    "ExecuteTime": {
     "end_time": "2024-06-14T06:47:23.138914Z",
     "start_time": "2024-06-14T06:47:23.105187Z"
    }
   },
   "cell_type": "code",
   "source": [
    "import pandas as pd\n",
    "jsonObj = pd.read_json('output.jsonl', lines=True)"
   ],
   "id": "f65ac8dcf0f09c1a",
   "outputs": [],
   "execution_count": 63
  },
  {
   "metadata": {
    "ExecuteTime": {
     "end_time": "2024-06-14T06:47:23.557995Z",
     "start_time": "2024-06-14T06:47:23.520993Z"
    }
   },
   "cell_type": "code",
   "source": "jsonObj",
   "id": "55dd0e1a5a934253",
   "outputs": [
    {
     "data": {
      "text/plain": [
       "                                               messages\n",
       "0     [{'role': 'system', 'content': 'You are Sales ...\n",
       "1     [{'role': 'system', 'content': 'You are Sales ...\n",
       "2     [{'role': 'user', 'content': 'Podval uyga qo's...\n",
       "3     [{'role': 'user', 'content': 'art house firmas...\n",
       "4     [{'role': 'user', 'content': '{rooms} xonali e...\n",
       "...                                                 ...\n",
       "1058  [{'role': 'user', 'content': 'Boshlang'ich to'...\n",
       "1059  [{'role': 'system', 'content': 'You are Sales ...\n",
       "1060  [{'role': 'system', 'content': 'You are Sales ...\n",
       "1061  [{'role': 'system', 'content': 'You are Sales ...\n",
       "1062  [{'role': 'system', 'content': 'You are Sales ...\n",
       "\n",
       "[1063 rows x 1 columns]"
      ],
      "text/html": [
       "<div>\n",
       "<style scoped>\n",
       "    .dataframe tbody tr th:only-of-type {\n",
       "        vertical-align: middle;\n",
       "    }\n",
       "\n",
       "    .dataframe tbody tr th {\n",
       "        vertical-align: top;\n",
       "    }\n",
       "\n",
       "    .dataframe thead th {\n",
       "        text-align: right;\n",
       "    }\n",
       "</style>\n",
       "<table border=\"1\" class=\"dataframe\">\n",
       "  <thead>\n",
       "    <tr style=\"text-align: right;\">\n",
       "      <th></th>\n",
       "      <th>messages</th>\n",
       "    </tr>\n",
       "  </thead>\n",
       "  <tbody>\n",
       "    <tr>\n",
       "      <th>0</th>\n",
       "      <td>[{'role': 'system', 'content': 'You are Sales ...</td>\n",
       "    </tr>\n",
       "    <tr>\n",
       "      <th>1</th>\n",
       "      <td>[{'role': 'system', 'content': 'You are Sales ...</td>\n",
       "    </tr>\n",
       "    <tr>\n",
       "      <th>2</th>\n",
       "      <td>[{'role': 'user', 'content': 'Podval uyga qo's...</td>\n",
       "    </tr>\n",
       "    <tr>\n",
       "      <th>3</th>\n",
       "      <td>[{'role': 'user', 'content': 'art house firmas...</td>\n",
       "    </tr>\n",
       "    <tr>\n",
       "      <th>4</th>\n",
       "      <td>[{'role': 'user', 'content': '{rooms} xonali e...</td>\n",
       "    </tr>\n",
       "    <tr>\n",
       "      <th>...</th>\n",
       "      <td>...</td>\n",
       "    </tr>\n",
       "    <tr>\n",
       "      <th>1058</th>\n",
       "      <td>[{'role': 'user', 'content': 'Boshlang'ich to'...</td>\n",
       "    </tr>\n",
       "    <tr>\n",
       "      <th>1059</th>\n",
       "      <td>[{'role': 'system', 'content': 'You are Sales ...</td>\n",
       "    </tr>\n",
       "    <tr>\n",
       "      <th>1060</th>\n",
       "      <td>[{'role': 'system', 'content': 'You are Sales ...</td>\n",
       "    </tr>\n",
       "    <tr>\n",
       "      <th>1061</th>\n",
       "      <td>[{'role': 'system', 'content': 'You are Sales ...</td>\n",
       "    </tr>\n",
       "    <tr>\n",
       "      <th>1062</th>\n",
       "      <td>[{'role': 'system', 'content': 'You are Sales ...</td>\n",
       "    </tr>\n",
       "  </tbody>\n",
       "</table>\n",
       "<p>1063 rows × 1 columns</p>\n",
       "</div>"
      ]
     },
     "execution_count": 64,
     "metadata": {},
     "output_type": "execute_result"
    }
   ],
   "execution_count": 64
  },
  {
   "metadata": {
    "ExecuteTime": {
     "end_time": "2024-06-14T06:43:01.171703Z",
     "start_time": "2024-06-14T06:43:01.136704Z"
    }
   },
   "cell_type": "code",
   "source": [
    "import json\n",
    "\n",
    "def load_jsonl(file_path):\n",
    "    with open(file_path, 'r') as file:\n",
    "        return [json.loads(line) for line in file]\n",
    "\n",
    "def check_boundaries(data):\n",
    "    invalid_rows = []\n",
    "    for i, entry in enumerate(data):\n",
    "        messages = entry.get('messages', [])\n",
    "        if not messages:\n",
    "            invalid_rows.append(i)\n",
    "            continue\n",
    "\n",
    "        if messages[0]['role'] not in ['system', 'user'] or messages[-1]['role'] != 'assistant':\n",
    "            invalid_rows.append(i)\n",
    "    \n",
    "    return invalid_rows\n",
    "\n",
    "def main(input_file):\n",
    "    data = load_jsonl(input_file)\n",
    "    invalid_rows = check_boundaries(data)\n",
    "\n",
    "    print(f\"Total rows: {len(data)}\")\n",
    "    print(f\"Rows with invalid boundaries: {len(invalid_rows)}\")\n",
    "    print(f\"Invalid row indices: {invalid_rows}\")\n",
    "\n",
    "# Example usage:\n",
    "input_file = 'output.jsonl'\n",
    "\n",
    "main(input_file)\n"
   ],
   "id": "96f818672c4fefe3",
   "outputs": [
    {
     "name": "stdout",
     "output_type": "stream",
     "text": [
      "Total rows: 1063\n",
      "Rows with invalid boundaries: 0\n",
      "Invalid row indices: []\n"
     ]
    }
   ],
   "execution_count": 61
  },
  {
   "metadata": {},
   "cell_type": "code",
   "outputs": [],
   "execution_count": null,
   "source": "",
   "id": "5e2afa9c34dca850"
  }
 ],
 "metadata": {
  "kernelspec": {
   "display_name": "Python 3 (ipykernel)",
   "language": "python",
   "name": "python3"
  },
  "language_info": {
   "codemirror_mode": {
    "name": "ipython",
    "version": 2
   },
   "file_extension": ".py",
   "mimetype": "text/x-python",
   "name": "python",
   "nbconvert_exporter": "python",
   "pygments_lexer": "ipython2",
   "version": "2.7.6"
  }
 },
 "nbformat": 4,
 "nbformat_minor": 5
}
